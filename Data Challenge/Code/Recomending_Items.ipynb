{
 "cells": [
  {
   "cell_type": "markdown",
   "metadata": {},
   "source": [
    "## Predicting Sales and Revenue New Data"
   ]
  },
  {
   "cell_type": "code",
   "execution_count": 11,
   "metadata": {},
   "outputs": [],
   "source": [
    "#importing packages\n",
    "import pandas as pd\n",
    "import numpy as np\n",
    "import pickle\n",
    "import seaborn as sns\n",
    "from collections import Counter\n",
    "\n",
    "import warnings\n",
    "warnings.filterwarnings('ignore')\n",
    "\n",
    "pd.set_option('display.max_columns',None)"
   ]
  },
  {
   "cell_type": "code",
   "execution_count": 12,
   "metadata": {},
   "outputs": [],
   "source": [
    "df = pd.read_excel(\"Data\\df_pred.xlsx\",engine='openpyxl')"
   ]
  },
  {
   "cell_type": "code",
   "execution_count": 13,
   "metadata": {},
   "outputs": [],
   "source": [
    "df.drop(['Unnamed: 0'],inplace = True,axis =1)"
   ]
  },
  {
   "cell_type": "code",
   "execution_count": 14,
   "metadata": {},
   "outputs": [
    {
     "data": {
      "text/html": [
       "<div>\n",
       "<style scoped>\n",
       "    .dataframe tbody tr th:only-of-type {\n",
       "        vertical-align: middle;\n",
       "    }\n",
       "\n",
       "    .dataframe tbody tr th {\n",
       "        vertical-align: top;\n",
       "    }\n",
       "\n",
       "    .dataframe thead th {\n",
       "        text-align: right;\n",
       "    }\n",
       "</style>\n",
       "<table border=\"1\" class=\"dataframe\">\n",
       "  <thead>\n",
       "    <tr style=\"text-align: right;\">\n",
       "      <th></th>\n",
       "      <th>Client</th>\n",
       "      <th>ProbablitySaleMF</th>\n",
       "      <th>RevenueMF</th>\n",
       "      <th>ProbablitySaleCL</th>\n",
       "      <th>RevenueCL</th>\n",
       "      <th>ProbablitySaleCC</th>\n",
       "      <th>RevenueCC</th>\n",
       "    </tr>\n",
       "  </thead>\n",
       "  <tbody>\n",
       "    <tr>\n",
       "      <th>0</th>\n",
       "      <td>909</td>\n",
       "      <td>0.357088</td>\n",
       "      <td>0.0</td>\n",
       "      <td>0.444282</td>\n",
       "      <td>0.000000</td>\n",
       "      <td>0.313191</td>\n",
       "      <td>0.0</td>\n",
       "    </tr>\n",
       "    <tr>\n",
       "      <th>1</th>\n",
       "      <td>699</td>\n",
       "      <td>0.462286</td>\n",
       "      <td>0.0</td>\n",
       "      <td>0.564768</td>\n",
       "      <td>15.055770</td>\n",
       "      <td>0.427167</td>\n",
       "      <td>0.0</td>\n",
       "    </tr>\n",
       "    <tr>\n",
       "      <th>2</th>\n",
       "      <td>528</td>\n",
       "      <td>0.381130</td>\n",
       "      <td>0.0</td>\n",
       "      <td>0.535420</td>\n",
       "      <td>9.076186</td>\n",
       "      <td>0.400692</td>\n",
       "      <td>0.0</td>\n",
       "    </tr>\n",
       "  </tbody>\n",
       "</table>\n",
       "</div>"
      ],
      "text/plain": [
       "   Client  ProbablitySaleMF  RevenueMF  ProbablitySaleCL  RevenueCL  \\\n",
       "0     909          0.357088        0.0          0.444282   0.000000   \n",
       "1     699          0.462286        0.0          0.564768  15.055770   \n",
       "2     528          0.381130        0.0          0.535420   9.076186   \n",
       "\n",
       "   ProbablitySaleCC  RevenueCC  \n",
       "0          0.313191        0.0  \n",
       "1          0.427167        0.0  \n",
       "2          0.400692        0.0  "
      ]
     },
     "execution_count": 14,
     "metadata": {},
     "output_type": "execute_result"
    }
   ],
   "source": [
    "df.head(3)"
   ]
  },
  {
   "cell_type": "code",
   "execution_count": 15,
   "metadata": {},
   "outputs": [],
   "source": [
    "df['ExpectedRevenueMF'] = df.ProbablitySaleMF * df.RevenueMF\n",
    "df['ExpectedRevenueCL'] = df.ProbablitySaleCL * df.RevenueCL\n",
    "df['ExpectedRevenueCC'] = df.ProbablitySaleCC * df.RevenueCC"
   ]
  },
  {
   "cell_type": "code",
   "execution_count": 16,
   "metadata": {},
   "outputs": [
    {
     "data": {
      "text/html": [
       "<div>\n",
       "<style scoped>\n",
       "    .dataframe tbody tr th:only-of-type {\n",
       "        vertical-align: middle;\n",
       "    }\n",
       "\n",
       "    .dataframe tbody tr th {\n",
       "        vertical-align: top;\n",
       "    }\n",
       "\n",
       "    .dataframe thead th {\n",
       "        text-align: right;\n",
       "    }\n",
       "</style>\n",
       "<table border=\"1\" class=\"dataframe\">\n",
       "  <thead>\n",
       "    <tr style=\"text-align: right;\">\n",
       "      <th></th>\n",
       "      <th>Client</th>\n",
       "      <th>ProbablitySaleMF</th>\n",
       "      <th>RevenueMF</th>\n",
       "      <th>ProbablitySaleCL</th>\n",
       "      <th>RevenueCL</th>\n",
       "      <th>ProbablitySaleCC</th>\n",
       "      <th>RevenueCC</th>\n",
       "      <th>ExpectedRevenueMF</th>\n",
       "      <th>ExpectedRevenueCL</th>\n",
       "      <th>ExpectedRevenueCC</th>\n",
       "    </tr>\n",
       "  </thead>\n",
       "  <tbody>\n",
       "    <tr>\n",
       "      <th>0</th>\n",
       "      <td>909</td>\n",
       "      <td>0.357088</td>\n",
       "      <td>0.0</td>\n",
       "      <td>0.444282</td>\n",
       "      <td>0.000000</td>\n",
       "      <td>0.313191</td>\n",
       "      <td>0.0</td>\n",
       "      <td>0.0</td>\n",
       "      <td>0.000000</td>\n",
       "      <td>0.0</td>\n",
       "    </tr>\n",
       "    <tr>\n",
       "      <th>1</th>\n",
       "      <td>699</td>\n",
       "      <td>0.462286</td>\n",
       "      <td>0.0</td>\n",
       "      <td>0.564768</td>\n",
       "      <td>15.055770</td>\n",
       "      <td>0.427167</td>\n",
       "      <td>0.0</td>\n",
       "      <td>0.0</td>\n",
       "      <td>8.503017</td>\n",
       "      <td>0.0</td>\n",
       "    </tr>\n",
       "    <tr>\n",
       "      <th>2</th>\n",
       "      <td>528</td>\n",
       "      <td>0.381130</td>\n",
       "      <td>0.0</td>\n",
       "      <td>0.535420</td>\n",
       "      <td>9.076186</td>\n",
       "      <td>0.400692</td>\n",
       "      <td>0.0</td>\n",
       "      <td>0.0</td>\n",
       "      <td>4.859572</td>\n",
       "      <td>0.0</td>\n",
       "    </tr>\n",
       "  </tbody>\n",
       "</table>\n",
       "</div>"
      ],
      "text/plain": [
       "   Client  ProbablitySaleMF  RevenueMF  ProbablitySaleCL  RevenueCL  \\\n",
       "0     909          0.357088        0.0          0.444282   0.000000   \n",
       "1     699          0.462286        0.0          0.564768  15.055770   \n",
       "2     528          0.381130        0.0          0.535420   9.076186   \n",
       "\n",
       "   ProbablitySaleCC  RevenueCC  ExpectedRevenueMF  ExpectedRevenueCL  \\\n",
       "0          0.313191        0.0                0.0           0.000000   \n",
       "1          0.427167        0.0                0.0           8.503017   \n",
       "2          0.400692        0.0                0.0           4.859572   \n",
       "\n",
       "   ExpectedRevenueCC  \n",
       "0                0.0  \n",
       "1                0.0  \n",
       "2                0.0  "
      ]
     },
     "execution_count": 16,
     "metadata": {},
     "output_type": "execute_result"
    }
   ],
   "source": [
    "df.head(3)"
   ]
  },
  {
   "cell_type": "code",
   "execution_count": 17,
   "metadata": {},
   "outputs": [],
   "source": [
    "df['ExpectedRevenue'] = df[[\"ExpectedRevenueMF\", \"ExpectedRevenueCL\",\"ExpectedRevenueCC\"]].max(axis=1)\n"
   ]
  },
  {
   "cell_type": "code",
   "execution_count": 18,
   "metadata": {},
   "outputs": [],
   "source": [
    "df = df.query(\"ExpectedRevenue != 0.0\")"
   ]
  },
  {
   "cell_type": "code",
   "execution_count": 19,
   "metadata": {},
   "outputs": [],
   "source": [
    "df['recommendedOffer'] = df[[\"ExpectedRevenueMF\", \"ExpectedRevenueCL\",\"ExpectedRevenueCC\"]].idxmax(axis=1).str[-2:]"
   ]
  },
  {
   "cell_type": "code",
   "execution_count": 20,
   "metadata": {},
   "outputs": [],
   "source": [
    "df.sort_values(by=['ExpectedRevenue'], inplace=True, ascending=False)"
   ]
  },
  {
   "cell_type": "code",
   "execution_count": 21,
   "metadata": {},
   "outputs": [
    {
     "data": {
      "text/html": [
       "<div>\n",
       "<style scoped>\n",
       "    .dataframe tbody tr th:only-of-type {\n",
       "        vertical-align: middle;\n",
       "    }\n",
       "\n",
       "    .dataframe tbody tr th {\n",
       "        vertical-align: top;\n",
       "    }\n",
       "\n",
       "    .dataframe thead th {\n",
       "        text-align: right;\n",
       "    }\n",
       "</style>\n",
       "<table border=\"1\" class=\"dataframe\">\n",
       "  <thead>\n",
       "    <tr style=\"text-align: right;\">\n",
       "      <th></th>\n",
       "      <th>Client</th>\n",
       "      <th>ProbablitySaleMF</th>\n",
       "      <th>RevenueMF</th>\n",
       "      <th>ProbablitySaleCL</th>\n",
       "      <th>RevenueCL</th>\n",
       "      <th>ProbablitySaleCC</th>\n",
       "      <th>RevenueCC</th>\n",
       "      <th>ExpectedRevenueMF</th>\n",
       "      <th>ExpectedRevenueCL</th>\n",
       "      <th>ExpectedRevenueCC</th>\n",
       "      <th>ExpectedRevenue</th>\n",
       "      <th>recommendedOffer</th>\n",
       "    </tr>\n",
       "  </thead>\n",
       "  <tbody>\n",
       "    <tr>\n",
       "      <th>253</th>\n",
       "      <td>1365</td>\n",
       "      <td>0.500694</td>\n",
       "      <td>5.558522</td>\n",
       "      <td>0.689357</td>\n",
       "      <td>11.997049</td>\n",
       "      <td>0.512100</td>\n",
       "      <td>41.782279</td>\n",
       "      <td>2.783121</td>\n",
       "      <td>8.270249</td>\n",
       "      <td>21.396718</td>\n",
       "      <td>21.396718</td>\n",
       "      <td>CC</td>\n",
       "    </tr>\n",
       "    <tr>\n",
       "      <th>294</th>\n",
       "      <td>197</td>\n",
       "      <td>0.398299</td>\n",
       "      <td>3.589079</td>\n",
       "      <td>0.319981</td>\n",
       "      <td>0.000000</td>\n",
       "      <td>0.802965</td>\n",
       "      <td>23.321052</td>\n",
       "      <td>1.429526</td>\n",
       "      <td>0.000000</td>\n",
       "      <td>18.725982</td>\n",
       "      <td>18.725982</td>\n",
       "      <td>CC</td>\n",
       "    </tr>\n",
       "    <tr>\n",
       "      <th>103</th>\n",
       "      <td>1414</td>\n",
       "      <td>0.215309</td>\n",
       "      <td>0.000000</td>\n",
       "      <td>0.116086</td>\n",
       "      <td>0.000000</td>\n",
       "      <td>0.972163</td>\n",
       "      <td>19.227021</td>\n",
       "      <td>0.000000</td>\n",
       "      <td>0.000000</td>\n",
       "      <td>18.691801</td>\n",
       "      <td>18.691801</td>\n",
       "      <td>CC</td>\n",
       "    </tr>\n",
       "  </tbody>\n",
       "</table>\n",
       "</div>"
      ],
      "text/plain": [
       "     Client  ProbablitySaleMF  RevenueMF  ProbablitySaleCL  RevenueCL  \\\n",
       "253    1365          0.500694   5.558522          0.689357  11.997049   \n",
       "294     197          0.398299   3.589079          0.319981   0.000000   \n",
       "103    1414          0.215309   0.000000          0.116086   0.000000   \n",
       "\n",
       "     ProbablitySaleCC  RevenueCC  ExpectedRevenueMF  ExpectedRevenueCL  \\\n",
       "253          0.512100  41.782279           2.783121           8.270249   \n",
       "294          0.802965  23.321052           1.429526           0.000000   \n",
       "103          0.972163  19.227021           0.000000           0.000000   \n",
       "\n",
       "     ExpectedRevenueCC  ExpectedRevenue recommendedOffer  \n",
       "253          21.396718        21.396718               CC  \n",
       "294          18.725982        18.725982               CC  \n",
       "103          18.691801        18.691801               CC  "
      ]
     },
     "execution_count": 21,
     "metadata": {},
     "output_type": "execute_result"
    }
   ],
   "source": [
    "df.head(3)"
   ]
  },
  {
   "cell_type": "code",
   "execution_count": 22,
   "metadata": {},
   "outputs": [],
   "source": [
    "df_final_recomend = df.iloc[0:100,:]"
   ]
  },
  {
   "cell_type": "code",
   "execution_count": 23,
   "metadata": {},
   "outputs": [
    {
     "name": "stdout",
     "output_type": "stream",
     "text": [
      "The Expected Revenue from Consumer Loan, Credit Card and Mutual Fund is:  1021.9402927453694\n"
     ]
    }
   ],
   "source": [
    "print(\"The Expected Revenue from Consumer Loan, Credit Card and Mutual Fund is: \",df_final_recomend.ExpectedRevenue.sum())"
   ]
  },
  {
   "cell_type": "code",
   "execution_count": 24,
   "metadata": {},
   "outputs": [],
   "source": [
    "df_final_recomend.to_excel('Data\\df_final_recomend.xlsx')"
   ]
  },
  {
   "cell_type": "code",
   "execution_count": 25,
   "metadata": {},
   "outputs": [
    {
     "data": {
      "text/plain": [
       "Counter({'CC': 13, 'MF': 36, 'CL': 51})"
      ]
     },
     "execution_count": 25,
     "metadata": {},
     "output_type": "execute_result"
    }
   ],
   "source": [
    "Counter(df_final_recomend.recommendedOffer)"
   ]
  },
  {
   "cell_type": "code",
   "execution_count": 26,
   "metadata": {},
   "outputs": [
    {
     "data": {
      "image/png": "[encoded data removed]",
      "text/plain": [
       "<Figure size 432x288 with 1 Axes>"
      ]
     },
     "metadata": {},
     "output_type": "display_data"
    }
   ],
   "source": [
    "sns.set(rc={'figure.figsize':(6,4)})\n",
    "sns.countplot(df_final_recomend.recommendedOffer);"
   ]
  },
  {
   "cell_type": "code",
   "execution_count": 27,
   "metadata": {},
   "outputs": [
    {
     "data": {
      "text/plain": [
       "Counter({'CC': 49, 'MF': 157, 'CL': 150})"
      ]
     },
     "execution_count": 27,
     "metadata": {},
     "output_type": "execute_result"
    }
   ],
   "source": [
    "Counter(df.recommendedOffer)"
   ]
  },
  {
   "cell_type": "code",
   "execution_count": 28,
   "metadata": {},
   "outputs": [
    {
     "data": {
      "image/png": "[encoded data removed]",
      "text/plain": [
       "<Figure size 432x288 with 1 Axes>"
      ]
     },
     "metadata": {},
     "output_type": "display_data"
    }
   ],
   "source": [
    "sns.set(rc={'figure.figsize':(6,4)})\n",
    "sns.countplot(df.recommendedOffer);"
   ]
  },
  {
   "cell_type": "code",
   "execution_count": null,
   "metadata": {},
   "outputs": [],
   "source": []
  }
 ],
 "metadata": {
  "kernelspec": {
   "display_name": "Python 3",
   "language": "python",
   "name": "python3"
  },
  "language_info": {
   "codemirror_mode": {
    "name": "ipython",
    "version": 3
   },
   "file_extension": ".py",
   "mimetype": "text/x-python",
   "name": "python",
   "nbconvert_exporter": "python",
   "pygments_lexer": "ipython3",
   "version": "3.8.5"
  }
 },
 "nbformat": 4,
 "nbformat_minor": 4
}
