{
 "cells": [
  {
   "cell_type": "markdown",
   "metadata": {},
   "source": [
    "## Predicting Sales and Revenue New Data"
   ]
  },
  {
   "cell_type": "code",
   "execution_count": 104,
   "metadata": {},
   "outputs": [],
   "source": [
    "#importing packages\n",
    "import pandas as pd\n",
    "import numpy as np\n",
    "import pickle\n",
    "\n",
    "import warnings\n",
    "warnings.filterwarnings('ignore')\n",
    "\n",
    "pd.set_option('display.max_columns',None)"
   ]
  },
  {
   "cell_type": "code",
   "execution_count": 106,
   "metadata": {},
   "outputs": [],
   "source": [
    "df = pd.read_excel(\"Data\\df_pred.xlsx\",engine='openpyxl')"
   ]
  },
  {
   "cell_type": "code",
   "execution_count": 107,
   "metadata": {},
   "outputs": [],
   "source": [
    "df.drop(['Unnamed: 0'],inplace = True,axis =1)"
   ]
  },
  {
   "cell_type": "code",
   "execution_count": 108,
   "metadata": {},
   "outputs": [
    {
     "data": {
      "text/html": [
       "<div>\n",
       "<style scoped>\n",
       "    .dataframe tbody tr th:only-of-type {\n",
       "        vertical-align: middle;\n",
       "    }\n",
       "\n",
       "    .dataframe tbody tr th {\n",
       "        vertical-align: top;\n",
       "    }\n",
       "\n",
       "    .dataframe thead th {\n",
       "        text-align: right;\n",
       "    }\n",
       "</style>\n",
       "<table border=\"1\" class=\"dataframe\">\n",
       "  <thead>\n",
       "    <tr style=\"text-align: right;\">\n",
       "      <th></th>\n",
       "      <th>Client</th>\n",
       "      <th>ProbablitySaleMF</th>\n",
       "      <th>RevenueMF</th>\n",
       "      <th>ProbablitySaleCL</th>\n",
       "      <th>RevenueCL</th>\n",
       "      <th>ProbablitySaleCC</th>\n",
       "      <th>RevenueCC</th>\n",
       "    </tr>\n",
       "  </thead>\n",
       "  <tbody>\n",
       "    <tr>\n",
       "      <th>0</th>\n",
       "      <td>909</td>\n",
       "      <td>0.357088</td>\n",
       "      <td>0.0</td>\n",
       "      <td>0.444282</td>\n",
       "      <td>0.000000</td>\n",
       "      <td>0.313191</td>\n",
       "      <td>0.0</td>\n",
       "    </tr>\n",
       "    <tr>\n",
       "      <th>1</th>\n",
       "      <td>699</td>\n",
       "      <td>0.462286</td>\n",
       "      <td>0.0</td>\n",
       "      <td>0.564768</td>\n",
       "      <td>15.076298</td>\n",
       "      <td>0.427167</td>\n",
       "      <td>0.0</td>\n",
       "    </tr>\n",
       "    <tr>\n",
       "      <th>2</th>\n",
       "      <td>528</td>\n",
       "      <td>0.381130</td>\n",
       "      <td>0.0</td>\n",
       "      <td>0.535420</td>\n",
       "      <td>9.260791</td>\n",
       "      <td>0.400692</td>\n",
       "      <td>0.0</td>\n",
       "    </tr>\n",
       "  </tbody>\n",
       "</table>\n",
       "</div>"
      ],
      "text/plain": [
       "   Client  ProbablitySaleMF  RevenueMF  ProbablitySaleCL  RevenueCL  \\\n",
       "0     909          0.357088        0.0          0.444282   0.000000   \n",
       "1     699          0.462286        0.0          0.564768  15.076298   \n",
       "2     528          0.381130        0.0          0.535420   9.260791   \n",
       "\n",
       "   ProbablitySaleCC  RevenueCC  \n",
       "0          0.313191        0.0  \n",
       "1          0.427167        0.0  \n",
       "2          0.400692        0.0  "
      ]
     },
     "execution_count": 108,
     "metadata": {},
     "output_type": "execute_result"
    }
   ],
   "source": [
    "df.head(3)"
   ]
  },
  {
   "cell_type": "code",
   "execution_count": 109,
   "metadata": {},
   "outputs": [],
   "source": [
    "df['ExpectedRevenueMF'] = df.ProbablitySaleMF * df.RevenueMF\n",
    "df['ExpectedRevenueCL'] = df.ProbablitySaleCL * df.RevenueCL\n",
    "df['ExpectedRevenueCC'] = df.ProbablitySaleCC * df.RevenueCC"
   ]
  },
  {
   "cell_type": "code",
   "execution_count": 110,
   "metadata": {},
   "outputs": [
    {
     "data": {
      "text/html": [
       "<div>\n",
       "<style scoped>\n",
       "    .dataframe tbody tr th:only-of-type {\n",
       "        vertical-align: middle;\n",
       "    }\n",
       "\n",
       "    .dataframe tbody tr th {\n",
       "        vertical-align: top;\n",
       "    }\n",
       "\n",
       "    .dataframe thead th {\n",
       "        text-align: right;\n",
       "    }\n",
       "</style>\n",
       "<table border=\"1\" class=\"dataframe\">\n",
       "  <thead>\n",
       "    <tr style=\"text-align: right;\">\n",
       "      <th></th>\n",
       "      <th>Client</th>\n",
       "      <th>ProbablitySaleMF</th>\n",
       "      <th>RevenueMF</th>\n",
       "      <th>ProbablitySaleCL</th>\n",
       "      <th>RevenueCL</th>\n",
       "      <th>ProbablitySaleCC</th>\n",
       "      <th>RevenueCC</th>\n",
       "      <th>ExpectedRevenueMF</th>\n",
       "      <th>ExpectedRevenueCL</th>\n",
       "      <th>ExpectedRevenueCC</th>\n",
       "    </tr>\n",
       "  </thead>\n",
       "  <tbody>\n",
       "    <tr>\n",
       "      <th>0</th>\n",
       "      <td>909</td>\n",
       "      <td>0.357088</td>\n",
       "      <td>0.0</td>\n",
       "      <td>0.444282</td>\n",
       "      <td>0.000000</td>\n",
       "      <td>0.313191</td>\n",
       "      <td>0.0</td>\n",
       "      <td>0.0</td>\n",
       "      <td>0.000000</td>\n",
       "      <td>0.0</td>\n",
       "    </tr>\n",
       "    <tr>\n",
       "      <th>1</th>\n",
       "      <td>699</td>\n",
       "      <td>0.462286</td>\n",
       "      <td>0.0</td>\n",
       "      <td>0.564768</td>\n",
       "      <td>15.076298</td>\n",
       "      <td>0.427167</td>\n",
       "      <td>0.0</td>\n",
       "      <td>0.0</td>\n",
       "      <td>8.514611</td>\n",
       "      <td>0.0</td>\n",
       "    </tr>\n",
       "    <tr>\n",
       "      <th>2</th>\n",
       "      <td>528</td>\n",
       "      <td>0.381130</td>\n",
       "      <td>0.0</td>\n",
       "      <td>0.535420</td>\n",
       "      <td>9.260791</td>\n",
       "      <td>0.400692</td>\n",
       "      <td>0.0</td>\n",
       "      <td>0.0</td>\n",
       "      <td>4.958413</td>\n",
       "      <td>0.0</td>\n",
       "    </tr>\n",
       "  </tbody>\n",
       "</table>\n",
       "</div>"
      ],
      "text/plain": [
       "   Client  ProbablitySaleMF  RevenueMF  ProbablitySaleCL  RevenueCL  \\\n",
       "0     909          0.357088        0.0          0.444282   0.000000   \n",
       "1     699          0.462286        0.0          0.564768  15.076298   \n",
       "2     528          0.381130        0.0          0.535420   9.260791   \n",
       "\n",
       "   ProbablitySaleCC  RevenueCC  ExpectedRevenueMF  ExpectedRevenueCL  \\\n",
       "0          0.313191        0.0                0.0           0.000000   \n",
       "1          0.427167        0.0                0.0           8.514611   \n",
       "2          0.400692        0.0                0.0           4.958413   \n",
       "\n",
       "   ExpectedRevenueCC  \n",
       "0                0.0  \n",
       "1                0.0  \n",
       "2                0.0  "
      ]
     },
     "execution_count": 110,
     "metadata": {},
     "output_type": "execute_result"
    }
   ],
   "source": [
    "df.head(3)"
   ]
  },
  {
   "cell_type": "code",
   "execution_count": 111,
   "metadata": {},
   "outputs": [],
   "source": [
    "df['ExpectedRevenue'] = df[[\"ExpectedRevenueMF\", \"ExpectedRevenueCL\",\"ExpectedRevenueCC\"]].max(axis=1)\n"
   ]
  },
  {
   "cell_type": "code",
   "execution_count": 113,
   "metadata": {},
   "outputs": [],
   "source": [
    "df = df.query(\"ExpectedRevenue != 0.0\")"
   ]
  },
  {
   "cell_type": "code",
   "execution_count": 115,
   "metadata": {},
   "outputs": [],
   "source": [
    "df['recommendedOffer'] = df[[\"ExpectedRevenueMF\", \"ExpectedRevenueCL\",\"ExpectedRevenueCC\"]].idxmax(axis=1).str[-2:]"
   ]
  },
  {
   "cell_type": "code",
   "execution_count": 119,
   "metadata": {},
   "outputs": [],
   "source": [
    "df.sort_values(by=['ExpectedRevenue'], inplace=True, ascending=False)"
   ]
  },
  {
   "cell_type": "code",
   "execution_count": 120,
   "metadata": {},
   "outputs": [
    {
     "data": {
      "text/html": [
       "<div>\n",
       "<style scoped>\n",
       "    .dataframe tbody tr th:only-of-type {\n",
       "        vertical-align: middle;\n",
       "    }\n",
       "\n",
       "    .dataframe tbody tr th {\n",
       "        vertical-align: top;\n",
       "    }\n",
       "\n",
       "    .dataframe thead th {\n",
       "        text-align: right;\n",
       "    }\n",
       "</style>\n",
       "<table border=\"1\" class=\"dataframe\">\n",
       "  <thead>\n",
       "    <tr style=\"text-align: right;\">\n",
       "      <th></th>\n",
       "      <th>Client</th>\n",
       "      <th>ProbablitySaleMF</th>\n",
       "      <th>RevenueMF</th>\n",
       "      <th>ProbablitySaleCL</th>\n",
       "      <th>RevenueCL</th>\n",
       "      <th>ProbablitySaleCC</th>\n",
       "      <th>RevenueCC</th>\n",
       "      <th>ExpectedRevenueMF</th>\n",
       "      <th>ExpectedRevenueCL</th>\n",
       "      <th>ExpectedRevenueCC</th>\n",
       "      <th>ExpectedRevenue</th>\n",
       "      <th>recommendedOffer</th>\n",
       "    </tr>\n",
       "  </thead>\n",
       "  <tbody>\n",
       "    <tr>\n",
       "      <th>496</th>\n",
       "      <td>785</td>\n",
       "      <td>0.617006</td>\n",
       "      <td>35.949887</td>\n",
       "      <td>0.667054</td>\n",
       "      <td>14.251664</td>\n",
       "      <td>0.411408</td>\n",
       "      <td>0.000000</td>\n",
       "      <td>22.181278</td>\n",
       "      <td>9.506633</td>\n",
       "      <td>0.000000</td>\n",
       "      <td>22.181278</td>\n",
       "      <td>MF</td>\n",
       "    </tr>\n",
       "    <tr>\n",
       "      <th>294</th>\n",
       "      <td>197</td>\n",
       "      <td>0.398299</td>\n",
       "      <td>1.673977</td>\n",
       "      <td>0.319981</td>\n",
       "      <td>0.000000</td>\n",
       "      <td>0.802965</td>\n",
       "      <td>27.617582</td>\n",
       "      <td>0.666743</td>\n",
       "      <td>0.000000</td>\n",
       "      <td>22.175945</td>\n",
       "      <td>22.175945</td>\n",
       "      <td>CC</td>\n",
       "    </tr>\n",
       "    <tr>\n",
       "      <th>149</th>\n",
       "      <td>200</td>\n",
       "      <td>0.595330</td>\n",
       "      <td>34.863409</td>\n",
       "      <td>0.533456</td>\n",
       "      <td>7.863981</td>\n",
       "      <td>0.228517</td>\n",
       "      <td>0.000000</td>\n",
       "      <td>20.755217</td>\n",
       "      <td>4.195090</td>\n",
       "      <td>0.000000</td>\n",
       "      <td>20.755217</td>\n",
       "      <td>MF</td>\n",
       "    </tr>\n",
       "  </tbody>\n",
       "</table>\n",
       "</div>"
      ],
      "text/plain": [
       "     Client  ProbablitySaleMF  RevenueMF  ProbablitySaleCL  RevenueCL  \\\n",
       "496     785          0.617006  35.949887          0.667054  14.251664   \n",
       "294     197          0.398299   1.673977          0.319981   0.000000   \n",
       "149     200          0.595330  34.863409          0.533456   7.863981   \n",
       "\n",
       "     ProbablitySaleCC  RevenueCC  ExpectedRevenueMF  ExpectedRevenueCL  \\\n",
       "496          0.411408   0.000000          22.181278           9.506633   \n",
       "294          0.802965  27.617582           0.666743           0.000000   \n",
       "149          0.228517   0.000000          20.755217           4.195090   \n",
       "\n",
       "     ExpectedRevenueCC  ExpectedRevenue recommendedOffer  \n",
       "496           0.000000        22.181278               MF  \n",
       "294          22.175945        22.175945               CC  \n",
       "149           0.000000        20.755217               MF  "
      ]
     },
     "execution_count": 120,
     "metadata": {},
     "output_type": "execute_result"
    }
   ],
   "source": [
    "df.head(3)"
   ]
  },
  {
   "cell_type": "code",
   "execution_count": 130,
   "metadata": {},
   "outputs": [],
   "source": [
    "df_final_recomend = df.iloc[0:100,:]"
   ]
  },
  {
   "cell_type": "code",
   "execution_count": 132,
   "metadata": {},
   "outputs": [
    {
     "name": "stdout",
     "output_type": "stream",
     "text": [
      "The Expected Revenue from Consumer Loan, Credit Card and Mutual Fund is:  1078.5911419525646\n"
     ]
    }
   ],
   "source": [
    "print(\"The Expected Revenue from Consumer Loan, Credit Card and Mutual Fund is: \",df_final_recomend.ExpectedRevenue.sum())"
   ]
  },
  {
   "cell_type": "code",
   "execution_count": 133,
   "metadata": {},
   "outputs": [],
   "source": [
    "df_final_recomend.to_excel('Data\\df_final_recomend.xlsx')"
   ]
  },
  {
   "cell_type": "code",
   "execution_count": null,
   "metadata": {},
   "outputs": [],
   "source": []
  }
 ],
 "metadata": {
  "kernelspec": {
   "display_name": "Python 3",
   "language": "python",
   "name": "python3"
  },
  "language_info": {
   "codemirror_mode": {
    "name": "ipython",
    "version": 3
   },
   "file_extension": ".py",
   "mimetype": "text/x-python",
   "name": "python",
   "nbconvert_exporter": "python",
   "pygments_lexer": "ipython3",
   "version": "3.8.5"
  }
 },
 "nbformat": 4,
 "nbformat_minor": 4
}
