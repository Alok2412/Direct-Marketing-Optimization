{
 "cells": [
  {
   "cell_type": "markdown",
   "metadata": {},
   "source": [
    "#### Data science: Direct marketing optimization\n",
    "##### Task:\n",
    "Use dummy data to maximize revenue from direct marketing campaigns.\n",
    "##### Data:                   \n",
    "For the analysis, several tables are available:                  \n",
    "1) Social-demographical data (age, gender, tenure in a bank)                 \n",
    "2) Products owned + actual volumes (current account, saving account, mutual funds, overdraft, credit card, consumer loan)      \n",
    "3) Inflow/outflow on C/A, aggregated card turnover (monthly average over past 3 months)          \n",
    "4) For 60 % of clients actual sales + revenues from these are available (training set)                          \n",
    "\n",
    "##### Conditions:     \n",
    "> The bank has capacity to contact only 15 pct. of the clients (cca 100 people) with a marketing offer and each client can be targeted only once.Proposed steps:      \n",
    "1. Create an analytical dataset (both training and targeting sets)                  \n",
    "2. Develop 3 propensity models (consumer loan, credit card, mutual fund) using training data set                \n",
    "3. Optimize targeting clients with the direct marketing offer to maximize the revenue \n",
    "\n",
    "##### Expected result:                                            \n",
    "1) Which clients have higher propensity to buy consumer loan?             \n",
    "2) Which clients have higher propensity to buy credit card?            \n",
    "3) Which clients have higher propensity to buy mutual fund?              \n",
    "4) Which clients are to be targeted with which offer? General description.            \n",
    "5) What would be the expected revenue based on your strategy?             \n",
    "##### The executive summary of the analysis should not be larger than two pages. Attach the technical report, list of clients to be contacted with which offer, data, algorithms and codes used."
   ]
  },
  {
   "cell_type": "code",
   "execution_count": 112,
   "metadata": {},
   "outputs": [],
   "source": [
    "# importing required packages\n",
    "import pandas as pd\n",
    "import numpy as np \n",
    "from collections import Counter\n",
    "from sklearn.impute import KNNImputer\n",
    "import math\n",
    "\n",
    "import warnings\n",
    "warnings.filterwarnings('ignore')\n",
    "\n",
    "pd.set_option('display.max_columns',None)"
   ]
  },
  {
   "cell_type": "markdown",
   "metadata": {},
   "source": [
    "##### Reading Data Set"
   ]
  },
  {
   "cell_type": "code",
   "execution_count": 104,
   "metadata": {},
   "outputs": [],
   "source": [
    "# reading the data set\n",
    "df_demog = pd.read_excel(\"Task_Data_Scientist_Dataset.xlsx\",engine='openpyxl',sheet_name='Soc_Dem')\n",
    "df_prod = pd.read_excel(\"Task_Data_Scientist_Dataset.xlsx\",engine='openpyxl',sheet_name='Products_ActBalance')\n",
    "df_in_out = pd.read_excel(\"Task_Data_Scientist_Dataset.xlsx\",engine='openpyxl',sheet_name='Inflow_Outflow')\n",
    "df_sales = pd.read_excel(\"Task_Data_Scientist_Dataset.xlsx\",engine='openpyxl',sheet_name='Sales_Revenues')"
   ]
  },
  {
   "cell_type": "code",
   "execution_count": 86,
   "metadata": {},
   "outputs": [
    {
     "data": {
      "text/html": [
       "<div>\n",
       "<style scoped>\n",
       "    .dataframe tbody tr th:only-of-type {\n",
       "        vertical-align: middle;\n",
       "    }\n",
       "\n",
       "    .dataframe tbody tr th {\n",
       "        vertical-align: top;\n",
       "    }\n",
       "\n",
       "    .dataframe thead th {\n",
       "        text-align: right;\n",
       "    }\n",
       "</style>\n",
       "<table border=\"1\" class=\"dataframe\">\n",
       "  <thead>\n",
       "    <tr style=\"text-align: right;\">\n",
       "      <th></th>\n",
       "      <th>Client</th>\n",
       "      <th>Sex</th>\n",
       "      <th>Age</th>\n",
       "      <th>Tenure</th>\n",
       "    </tr>\n",
       "  </thead>\n",
       "  <tbody>\n",
       "    <tr>\n",
       "      <th>0</th>\n",
       "      <td>909</td>\n",
       "      <td>M</td>\n",
       "      <td>21</td>\n",
       "      <td>27</td>\n",
       "    </tr>\n",
       "    <tr>\n",
       "      <th>1</th>\n",
       "      <td>1217</td>\n",
       "      <td>M</td>\n",
       "      <td>38</td>\n",
       "      <td>165</td>\n",
       "    </tr>\n",
       "    <tr>\n",
       "      <th>2</th>\n",
       "      <td>850</td>\n",
       "      <td>F</td>\n",
       "      <td>49</td>\n",
       "      <td>44</td>\n",
       "    </tr>\n",
       "  </tbody>\n",
       "</table>\n",
       "</div>"
      ],
      "text/plain": [
       "   Client Sex  Age  Tenure\n",
       "0     909   M   21      27\n",
       "1    1217   M   38     165\n",
       "2     850   F   49      44"
      ]
     },
     "execution_count": 86,
     "metadata": {},
     "output_type": "execute_result"
    }
   ],
   "source": [
    "df_demog.head(3)"
   ]
  },
  {
   "cell_type": "code",
   "execution_count": 87,
   "metadata": {},
   "outputs": [
    {
     "data": {
      "text/html": [
       "<div>\n",
       "<style scoped>\n",
       "    .dataframe tbody tr th:only-of-type {\n",
       "        vertical-align: middle;\n",
       "    }\n",
       "\n",
       "    .dataframe tbody tr th {\n",
       "        vertical-align: top;\n",
       "    }\n",
       "\n",
       "    .dataframe thead th {\n",
       "        text-align: right;\n",
       "    }\n",
       "</style>\n",
       "<table border=\"1\" class=\"dataframe\">\n",
       "  <thead>\n",
       "    <tr style=\"text-align: right;\">\n",
       "      <th></th>\n",
       "      <th>Client</th>\n",
       "      <th>Count_CA</th>\n",
       "      <th>Count_SA</th>\n",
       "      <th>Count_MF</th>\n",
       "      <th>Count_OVD</th>\n",
       "      <th>Count_CC</th>\n",
       "      <th>Count_CL</th>\n",
       "      <th>ActBal_CA</th>\n",
       "      <th>ActBal_SA</th>\n",
       "      <th>ActBal_MF</th>\n",
       "      <th>ActBal_OVD</th>\n",
       "      <th>ActBal_CC</th>\n",
       "      <th>ActBal_CL</th>\n",
       "    </tr>\n",
       "  </thead>\n",
       "  <tbody>\n",
       "    <tr>\n",
       "      <th>0</th>\n",
       "      <td>1</td>\n",
       "      <td>1</td>\n",
       "      <td>NaN</td>\n",
       "      <td>NaN</td>\n",
       "      <td>1.0</td>\n",
       "      <td>NaN</td>\n",
       "      <td>NaN</td>\n",
       "      <td>1333.802857</td>\n",
       "      <td>NaN</td>\n",
       "      <td>NaN</td>\n",
       "      <td>0.0</td>\n",
       "      <td>NaN</td>\n",
       "      <td>NaN</td>\n",
       "    </tr>\n",
       "    <tr>\n",
       "      <th>1</th>\n",
       "      <td>2</td>\n",
       "      <td>1</td>\n",
       "      <td>1.0</td>\n",
       "      <td>NaN</td>\n",
       "      <td>NaN</td>\n",
       "      <td>NaN</td>\n",
       "      <td>NaN</td>\n",
       "      <td>110.768571</td>\n",
       "      <td>13326.190357</td>\n",
       "      <td>NaN</td>\n",
       "      <td>NaN</td>\n",
       "      <td>NaN</td>\n",
       "      <td>NaN</td>\n",
       "    </tr>\n",
       "    <tr>\n",
       "      <th>2</th>\n",
       "      <td>3</td>\n",
       "      <td>1</td>\n",
       "      <td>NaN</td>\n",
       "      <td>1.0</td>\n",
       "      <td>NaN</td>\n",
       "      <td>NaN</td>\n",
       "      <td>NaN</td>\n",
       "      <td>482.654643</td>\n",
       "      <td>NaN</td>\n",
       "      <td>107.251786</td>\n",
       "      <td>NaN</td>\n",
       "      <td>NaN</td>\n",
       "      <td>NaN</td>\n",
       "    </tr>\n",
       "  </tbody>\n",
       "</table>\n",
       "</div>"
      ],
      "text/plain": [
       "   Client  Count_CA  Count_SA  Count_MF  Count_OVD  Count_CC  Count_CL  \\\n",
       "0       1         1       NaN       NaN        1.0       NaN       NaN   \n",
       "1       2         1       1.0       NaN        NaN       NaN       NaN   \n",
       "2       3         1       NaN       1.0        NaN       NaN       NaN   \n",
       "\n",
       "     ActBal_CA     ActBal_SA   ActBal_MF  ActBal_OVD  ActBal_CC  ActBal_CL  \n",
       "0  1333.802857           NaN         NaN         0.0        NaN        NaN  \n",
       "1   110.768571  13326.190357         NaN         NaN        NaN        NaN  \n",
       "2   482.654643           NaN  107.251786         NaN        NaN        NaN  "
      ]
     },
     "execution_count": 87,
     "metadata": {},
     "output_type": "execute_result"
    }
   ],
   "source": [
    "df_prod.head(3)"
   ]
  },
  {
   "cell_type": "code",
   "execution_count": 88,
   "metadata": {},
   "outputs": [
    {
     "data": {
      "text/html": [
       "<div>\n",
       "<style scoped>\n",
       "    .dataframe tbody tr th:only-of-type {\n",
       "        vertical-align: middle;\n",
       "    }\n",
       "\n",
       "    .dataframe tbody tr th {\n",
       "        vertical-align: top;\n",
       "    }\n",
       "\n",
       "    .dataframe thead th {\n",
       "        text-align: right;\n",
       "    }\n",
       "</style>\n",
       "<table border=\"1\" class=\"dataframe\">\n",
       "  <thead>\n",
       "    <tr style=\"text-align: right;\">\n",
       "      <th></th>\n",
       "      <th>Client</th>\n",
       "      <th>VolumeCred</th>\n",
       "      <th>VolumeCred_CA</th>\n",
       "      <th>TransactionsCred</th>\n",
       "      <th>TransactionsCred_CA</th>\n",
       "      <th>VolumeDeb</th>\n",
       "      <th>VolumeDeb_CA</th>\n",
       "      <th>VolumeDebCash_Card</th>\n",
       "      <th>VolumeDebCashless_Card</th>\n",
       "      <th>VolumeDeb_PaymentOrder</th>\n",
       "      <th>TransactionsDeb</th>\n",
       "      <th>TransactionsDeb_CA</th>\n",
       "      <th>TransactionsDebCash_Card</th>\n",
       "      <th>TransactionsDebCashless_Card</th>\n",
       "      <th>TransactionsDeb_PaymentOrder</th>\n",
       "    </tr>\n",
       "  </thead>\n",
       "  <tbody>\n",
       "    <tr>\n",
       "      <th>0</th>\n",
       "      <td>1017</td>\n",
       "      <td>0.005000</td>\n",
       "      <td>0.005000</td>\n",
       "      <td>1</td>\n",
       "      <td>1</td>\n",
       "      <td>118.046429</td>\n",
       "      <td>118.046429</td>\n",
       "      <td>25.000000</td>\n",
       "      <td>91.796429</td>\n",
       "      <td>0.000000</td>\n",
       "      <td>12</td>\n",
       "      <td>12</td>\n",
       "      <td>2</td>\n",
       "      <td>9</td>\n",
       "      <td>0</td>\n",
       "    </tr>\n",
       "    <tr>\n",
       "      <th>1</th>\n",
       "      <td>1456</td>\n",
       "      <td>364.772143</td>\n",
       "      <td>364.752857</td>\n",
       "      <td>4</td>\n",
       "      <td>3</td>\n",
       "      <td>774.980000</td>\n",
       "      <td>774.980000</td>\n",
       "      <td>14.285714</td>\n",
       "      <td>497.444286</td>\n",
       "      <td>258.607143</td>\n",
       "      <td>28</td>\n",
       "      <td>28</td>\n",
       "      <td>1</td>\n",
       "      <td>20</td>\n",
       "      <td>5</td>\n",
       "    </tr>\n",
       "    <tr>\n",
       "      <th>2</th>\n",
       "      <td>545</td>\n",
       "      <td>2471.719286</td>\n",
       "      <td>2471.719286</td>\n",
       "      <td>14</td>\n",
       "      <td>14</td>\n",
       "      <td>2190.257143</td>\n",
       "      <td>2190.257143</td>\n",
       "      <td>303.571429</td>\n",
       "      <td>179.082143</td>\n",
       "      <td>1229.428571</td>\n",
       "      <td>23</td>\n",
       "      <td>23</td>\n",
       "      <td>3</td>\n",
       "      <td>5</td>\n",
       "      <td>12</td>\n",
       "    </tr>\n",
       "  </tbody>\n",
       "</table>\n",
       "</div>"
      ],
      "text/plain": [
       "   Client   VolumeCred  VolumeCred_CA  TransactionsCred  TransactionsCred_CA  \\\n",
       "0    1017     0.005000       0.005000                 1                    1   \n",
       "1    1456   364.772143     364.752857                 4                    3   \n",
       "2     545  2471.719286    2471.719286                14                   14   \n",
       "\n",
       "     VolumeDeb  VolumeDeb_CA  VolumeDebCash_Card  VolumeDebCashless_Card  \\\n",
       "0   118.046429    118.046429           25.000000               91.796429   \n",
       "1   774.980000    774.980000           14.285714              497.444286   \n",
       "2  2190.257143   2190.257143          303.571429              179.082143   \n",
       "\n",
       "   VolumeDeb_PaymentOrder  TransactionsDeb  TransactionsDeb_CA  \\\n",
       "0                0.000000               12                  12   \n",
       "1              258.607143               28                  28   \n",
       "2             1229.428571               23                  23   \n",
       "\n",
       "   TransactionsDebCash_Card  TransactionsDebCashless_Card  \\\n",
       "0                         2                             9   \n",
       "1                         1                            20   \n",
       "2                         3                             5   \n",
       "\n",
       "   TransactionsDeb_PaymentOrder  \n",
       "0                             0  \n",
       "1                             5  \n",
       "2                            12  "
      ]
     },
     "execution_count": 88,
     "metadata": {},
     "output_type": "execute_result"
    }
   ],
   "source": [
    "df_in_out.head(3)"
   ]
  },
  {
   "cell_type": "code",
   "execution_count": 89,
   "metadata": {},
   "outputs": [
    {
     "data": {
      "text/html": [
       "<div>\n",
       "<style scoped>\n",
       "    .dataframe tbody tr th:only-of-type {\n",
       "        vertical-align: middle;\n",
       "    }\n",
       "\n",
       "    .dataframe tbody tr th {\n",
       "        vertical-align: top;\n",
       "    }\n",
       "\n",
       "    .dataframe thead th {\n",
       "        text-align: right;\n",
       "    }\n",
       "</style>\n",
       "<table border=\"1\" class=\"dataframe\">\n",
       "  <thead>\n",
       "    <tr style=\"text-align: right;\">\n",
       "      <th></th>\n",
       "      <th>Client</th>\n",
       "      <th>Sale_MF</th>\n",
       "      <th>Sale_CC</th>\n",
       "      <th>Sale_CL</th>\n",
       "      <th>Revenue_MF</th>\n",
       "      <th>Revenue_CC</th>\n",
       "      <th>Revenue_CL</th>\n",
       "    </tr>\n",
       "  </thead>\n",
       "  <tbody>\n",
       "    <tr>\n",
       "      <th>0</th>\n",
       "      <td>1094</td>\n",
       "      <td>0</td>\n",
       "      <td>1</td>\n",
       "      <td>0</td>\n",
       "      <td>0.000000</td>\n",
       "      <td>5.138571</td>\n",
       "      <td>0.0000</td>\n",
       "    </tr>\n",
       "    <tr>\n",
       "      <th>1</th>\n",
       "      <td>1484</td>\n",
       "      <td>1</td>\n",
       "      <td>0</td>\n",
       "      <td>1</td>\n",
       "      <td>25.609107</td>\n",
       "      <td>0.000000</td>\n",
       "      <td>8.7225</td>\n",
       "    </tr>\n",
       "    <tr>\n",
       "      <th>2</th>\n",
       "      <td>20</td>\n",
       "      <td>0</td>\n",
       "      <td>1</td>\n",
       "      <td>0</td>\n",
       "      <td>0.000000</td>\n",
       "      <td>3.822500</td>\n",
       "      <td>0.0000</td>\n",
       "    </tr>\n",
       "  </tbody>\n",
       "</table>\n",
       "</div>"
      ],
      "text/plain": [
       "   Client  Sale_MF  Sale_CC  Sale_CL  Revenue_MF  Revenue_CC  Revenue_CL\n",
       "0    1094        0        1        0    0.000000    5.138571      0.0000\n",
       "1    1484        1        0        1   25.609107    0.000000      8.7225\n",
       "2      20        0        1        0    0.000000    3.822500      0.0000"
      ]
     },
     "execution_count": 89,
     "metadata": {},
     "output_type": "execute_result"
    }
   ],
   "source": [
    "df_sales.head(3)"
   ]
  },
  {
   "cell_type": "markdown",
   "metadata": {},
   "source": [
    "##### Data Exploration"
   ]
  },
  {
   "cell_type": "code",
   "execution_count": 99,
   "metadata": {},
   "outputs": [
    {
     "name": "stdout",
     "output_type": "stream",
     "text": [
      "Print shape of Social Demographic data set:  (1615, 4)\n",
      "Print shape of Products Owned and their actual volumes data set:  (1615, 13)\n",
      "print shape of Inflow and Outflow data set:  (1587, 15)\n",
      "print shape of Train set data set:  (969, 7)\n"
     ]
    }
   ],
   "source": [
    "# printing shape of provided data set\n",
    "print(\"Print shape of Social Demographic data set: \",df_demog.shape)\n",
    "print(\"Print shape of Products Owned and their actual volumes data set: \",df_prod.shape)\n",
    "print(\"print shape of Inflow and Outflow data set: \",df_in_out.shape)\n",
    "print(\"print shape of Train set data set: \",df_sales.shape)"
   ]
  },
  {
   "cell_type": "markdown",
   "metadata": {},
   "source": [
    "we can see that their are 28 clients not present in Inflow and Outflow data set. Before merging these data set we have to drop those clients from Social Demographic and Products Owned data set."
   ]
  },
  {
   "cell_type": "code",
   "execution_count": 105,
   "metadata": {},
   "outputs": [],
   "source": [
    "# merging that two data set having same shape\n",
    "df = pd.merge(df_demog, df_prod, how=\"left\", on=[\"Client\"])\n",
    "df = pd.merge(df, df_in_out, how=\"left\", on=[\"Client\"])"
   ]
  },
  {
   "cell_type": "code",
   "execution_count": 106,
   "metadata": {},
   "outputs": [
    {
     "name": "stdout",
     "output_type": "stream",
     "text": [
      "Print shape of combined data set:  (1615, 30)\n"
     ]
    }
   ],
   "source": [
    "print(\"Print shape of combined data set: \",df.shape)"
   ]
  },
  {
   "cell_type": "markdown",
   "metadata": {},
   "source": [
    "##### Spliting the data set into Train and Test"
   ]
  },
  {
   "cell_type": "code",
   "execution_count": 107,
   "metadata": {},
   "outputs": [],
   "source": [
    "df_train = pd.merge(df, df_sales[['Client','Sale_CL']], how=\"inner\", on=[\"Client\"])"
   ]
  },
  {
   "cell_type": "code",
   "execution_count": 108,
   "metadata": {},
   "outputs": [
    {
     "name": "stdout",
     "output_type": "stream",
     "text": [
      "Print shape of combined data set:  (969, 31)\n"
     ]
    }
   ],
   "source": [
    "print(\"Print shape of combined data set: \",df_train.shape)"
   ]
  },
  {
   "cell_type": "code",
   "execution_count": 95,
   "metadata": {},
   "outputs": [
    {
     "data": {
      "text/html": [
       "<div>\n",
       "<style scoped>\n",
       "    .dataframe tbody tr th:only-of-type {\n",
       "        vertical-align: middle;\n",
       "    }\n",
       "\n",
       "    .dataframe tbody tr th {\n",
       "        vertical-align: top;\n",
       "    }\n",
       "\n",
       "    .dataframe thead th {\n",
       "        text-align: right;\n",
       "    }\n",
       "</style>\n",
       "<table border=\"1\" class=\"dataframe\">\n",
       "  <thead>\n",
       "    <tr style=\"text-align: right;\">\n",
       "      <th></th>\n",
       "      <th>Client</th>\n",
       "      <th>Sex</th>\n",
       "      <th>Age</th>\n",
       "      <th>Tenure</th>\n",
       "      <th>Count_CA</th>\n",
       "      <th>Count_SA</th>\n",
       "      <th>Count_MF</th>\n",
       "      <th>Count_OVD</th>\n",
       "      <th>Count_CC</th>\n",
       "      <th>Count_CL</th>\n",
       "      <th>ActBal_CA</th>\n",
       "      <th>ActBal_SA</th>\n",
       "      <th>ActBal_MF</th>\n",
       "      <th>ActBal_OVD</th>\n",
       "      <th>ActBal_CC</th>\n",
       "      <th>ActBal_CL</th>\n",
       "      <th>VolumeCred</th>\n",
       "      <th>VolumeCred_CA</th>\n",
       "      <th>TransactionsCred</th>\n",
       "      <th>TransactionsCred_CA</th>\n",
       "      <th>VolumeDeb</th>\n",
       "      <th>VolumeDeb_CA</th>\n",
       "      <th>VolumeDebCash_Card</th>\n",
       "      <th>VolumeDebCashless_Card</th>\n",
       "      <th>VolumeDeb_PaymentOrder</th>\n",
       "      <th>TransactionsDeb</th>\n",
       "      <th>TransactionsDeb_CA</th>\n",
       "      <th>TransactionsDebCash_Card</th>\n",
       "      <th>TransactionsDebCashless_Card</th>\n",
       "      <th>TransactionsDeb_PaymentOrder</th>\n",
       "      <th>Sale_CL</th>\n",
       "    </tr>\n",
       "  </thead>\n",
       "  <tbody>\n",
       "    <tr>\n",
       "      <th>0</th>\n",
       "      <td>1217</td>\n",
       "      <td>M</td>\n",
       "      <td>38</td>\n",
       "      <td>165</td>\n",
       "      <td>1</td>\n",
       "      <td>NaN</td>\n",
       "      <td>NaN</td>\n",
       "      <td>NaN</td>\n",
       "      <td>NaN</td>\n",
       "      <td>NaN</td>\n",
       "      <td>6752.244643</td>\n",
       "      <td>NaN</td>\n",
       "      <td>NaN</td>\n",
       "      <td>NaN</td>\n",
       "      <td>NaN</td>\n",
       "      <td>NaN</td>\n",
       "      <td>0.002143</td>\n",
       "      <td>0.002143</td>\n",
       "      <td>1.0</td>\n",
       "      <td>1.0</td>\n",
       "      <td>714.285714</td>\n",
       "      <td>714.285714</td>\n",
       "      <td>0.000000</td>\n",
       "      <td>0.0000</td>\n",
       "      <td>714.285714</td>\n",
       "      <td>1.0</td>\n",
       "      <td>1.0</td>\n",
       "      <td>0.0</td>\n",
       "      <td>0.0</td>\n",
       "      <td>1.0</td>\n",
       "      <td>0</td>\n",
       "    </tr>\n",
       "    <tr>\n",
       "      <th>1</th>\n",
       "      <td>850</td>\n",
       "      <td>F</td>\n",
       "      <td>49</td>\n",
       "      <td>44</td>\n",
       "      <td>1</td>\n",
       "      <td>NaN</td>\n",
       "      <td>NaN</td>\n",
       "      <td>NaN</td>\n",
       "      <td>NaN</td>\n",
       "      <td>NaN</td>\n",
       "      <td>43.523214</td>\n",
       "      <td>NaN</td>\n",
       "      <td>NaN</td>\n",
       "      <td>NaN</td>\n",
       "      <td>NaN</td>\n",
       "      <td>NaN</td>\n",
       "      <td>1392.402857</td>\n",
       "      <td>1392.402857</td>\n",
       "      <td>3.0</td>\n",
       "      <td>3.0</td>\n",
       "      <td>1226.345357</td>\n",
       "      <td>1226.345357</td>\n",
       "      <td>0.000000</td>\n",
       "      <td>0.0000</td>\n",
       "      <td>121.928571</td>\n",
       "      <td>6.0</td>\n",
       "      <td>6.0</td>\n",
       "      <td>0.0</td>\n",
       "      <td>0.0</td>\n",
       "      <td>1.0</td>\n",
       "      <td>0</td>\n",
       "    </tr>\n",
       "    <tr>\n",
       "      <th>2</th>\n",
       "      <td>1473</td>\n",
       "      <td>M</td>\n",
       "      <td>54</td>\n",
       "      <td>34</td>\n",
       "      <td>1</td>\n",
       "      <td>1.0</td>\n",
       "      <td>NaN</td>\n",
       "      <td>NaN</td>\n",
       "      <td>1.0</td>\n",
       "      <td>1.0</td>\n",
       "      <td>29.024286</td>\n",
       "      <td>14447.801429</td>\n",
       "      <td>NaN</td>\n",
       "      <td>NaN</td>\n",
       "      <td>653.91</td>\n",
       "      <td>1132.590357</td>\n",
       "      <td>1787.127500</td>\n",
       "      <td>939.128929</td>\n",
       "      <td>14.0</td>\n",
       "      <td>5.0</td>\n",
       "      <td>3875.137857</td>\n",
       "      <td>3794.580714</td>\n",
       "      <td>357.142857</td>\n",
       "      <td>444.5975</td>\n",
       "      <td>2076.785714</td>\n",
       "      <td>48.0</td>\n",
       "      <td>38.0</td>\n",
       "      <td>1.0</td>\n",
       "      <td>26.0</td>\n",
       "      <td>11.0</td>\n",
       "      <td>0</td>\n",
       "    </tr>\n",
       "  </tbody>\n",
       "</table>\n",
       "</div>"
      ],
      "text/plain": [
       "   Client Sex  Age  Tenure  Count_CA  Count_SA  Count_MF  Count_OVD  Count_CC  \\\n",
       "0    1217   M   38     165         1       NaN       NaN        NaN       NaN   \n",
       "1     850   F   49      44         1       NaN       NaN        NaN       NaN   \n",
       "2    1473   M   54      34         1       1.0       NaN        NaN       1.0   \n",
       "\n",
       "   Count_CL    ActBal_CA     ActBal_SA  ActBal_MF  ActBal_OVD  ActBal_CC  \\\n",
       "0       NaN  6752.244643           NaN        NaN         NaN        NaN   \n",
       "1       NaN    43.523214           NaN        NaN         NaN        NaN   \n",
       "2       1.0    29.024286  14447.801429        NaN         NaN     653.91   \n",
       "\n",
       "     ActBal_CL   VolumeCred  VolumeCred_CA  TransactionsCred  \\\n",
       "0          NaN     0.002143       0.002143               1.0   \n",
       "1          NaN  1392.402857    1392.402857               3.0   \n",
       "2  1132.590357  1787.127500     939.128929              14.0   \n",
       "\n",
       "   TransactionsCred_CA    VolumeDeb  VolumeDeb_CA  VolumeDebCash_Card  \\\n",
       "0                  1.0   714.285714    714.285714            0.000000   \n",
       "1                  3.0  1226.345357   1226.345357            0.000000   \n",
       "2                  5.0  3875.137857   3794.580714          357.142857   \n",
       "\n",
       "   VolumeDebCashless_Card  VolumeDeb_PaymentOrder  TransactionsDeb  \\\n",
       "0                  0.0000              714.285714              1.0   \n",
       "1                  0.0000              121.928571              6.0   \n",
       "2                444.5975             2076.785714             48.0   \n",
       "\n",
       "   TransactionsDeb_CA  TransactionsDebCash_Card  TransactionsDebCashless_Card  \\\n",
       "0                 1.0                       0.0                           0.0   \n",
       "1                 6.0                       0.0                           0.0   \n",
       "2                38.0                       1.0                          26.0   \n",
       "\n",
       "   TransactionsDeb_PaymentOrder  Sale_CL  \n",
       "0                           1.0        0  \n",
       "1                           1.0        0  \n",
       "2                          11.0        0  "
      ]
     },
     "execution_count": 95,
     "metadata": {},
     "output_type": "execute_result"
    }
   ],
   "source": [
    "df_train.head(3)"
   ]
  },
  {
   "cell_type": "markdown",
   "metadata": {},
   "source": [
    "##### Data Pre-Processing"
   ]
  },
  {
   "cell_type": "code",
   "execution_count": 109,
   "metadata": {},
   "outputs": [
    {
     "name": "stdout",
     "output_type": "stream",
     "text": [
      "Total number of duplicate values in the data set is/are: 0\n"
     ]
    }
   ],
   "source": [
    "# finding total number of duplicate values in data set if any\n",
    "print('Total number of duplicate values in the data set is/are: {}'.format(df_train.duplicated().sum()))"
   ]
  },
  {
   "cell_type": "markdown",
   "metadata": {},
   "source": [
    "There are no duplicate rows in the data set"
   ]
  },
  {
   "cell_type": "code",
   "execution_count": 110,
   "metadata": {},
   "outputs": [
    {
     "data": {
      "text/plain": [
       "Client                            0\n",
       "Sex                               2\n",
       "Age                               0\n",
       "Tenure                            0\n",
       "Count_CA                          0\n",
       "Count_SA                        704\n",
       "Count_MF                        785\n",
       "Count_OVD                       718\n",
       "Count_CC                        859\n",
       "Count_CL                        890\n",
       "ActBal_CA                         0\n",
       "ActBal_SA                       704\n",
       "ActBal_MF                       785\n",
       "ActBal_OVD                      718\n",
       "ActBal_CC                       859\n",
       "ActBal_CL                       890\n",
       "VolumeCred                       18\n",
       "VolumeCred_CA                    18\n",
       "TransactionsCred                 18\n",
       "TransactionsCred_CA              18\n",
       "VolumeDeb                        18\n",
       "VolumeDeb_CA                     18\n",
       "VolumeDebCash_Card               18\n",
       "VolumeDebCashless_Card           18\n",
       "VolumeDeb_PaymentOrder           18\n",
       "TransactionsDeb                  18\n",
       "TransactionsDeb_CA               18\n",
       "TransactionsDebCash_Card         18\n",
       "TransactionsDebCashless_Card     18\n",
       "TransactionsDeb_PaymentOrder     18\n",
       "Sale_CL                           0\n",
       "dtype: int64"
      ]
     },
     "execution_count": 110,
     "metadata": {},
     "output_type": "execute_result"
    }
   ],
   "source": [
    "# checking for null values in the data set\n",
    "df_train.isnull().sum()"
   ]
  },
  {
   "cell_type": "markdown",
   "metadata": {},
   "source": [
    "We can see that their are lot of missing values in the data set for feature from "
   ]
  },
  {
   "cell_type": "code",
   "execution_count": null,
   "metadata": {},
   "outputs": [],
   "source": [
    "# mean imputation in some column for null values\n",
    "col_mean = ['VolumeCred','VolumeCred_CA','TransactionsCred','TransactionsCred_CA','VolumeDeb','VolumeDeb_CA',\n",
    "           'VolumeDebCash_Card','VolumeDebCashless_Card','VolumeDeb_PaymentOrder','TransactionsDeb','TransactionsDeb_CA'\n",
    "           ,'TransactionsDebCash_Card','TransactionsDebCashless_Card','TransactionsDeb_PaymentOrder']\n",
    "\n",
    "for i in col_mean:\n",
    "    df[i].fillna((df[i].mean()),inplace = True)"
   ]
  },
  {
   "cell_type": "code",
   "execution_count": null,
   "metadata": {},
   "outputs": [],
   "source": []
  },
  {
   "cell_type": "code",
   "execution_count": null,
   "metadata": {},
   "outputs": [],
   "source": []
  },
  {
   "cell_type": "code",
   "execution_count": null,
   "metadata": {},
   "outputs": [],
   "source": []
  },
  {
   "cell_type": "code",
   "execution_count": null,
   "metadata": {},
   "outputs": [],
   "source": []
  },
  {
   "cell_type": "code",
   "execution_count": null,
   "metadata": {},
   "outputs": [],
   "source": []
  },
  {
   "cell_type": "code",
   "execution_count": null,
   "metadata": {},
   "outputs": [],
   "source": []
  },
  {
   "cell_type": "code",
   "execution_count": null,
   "metadata": {},
   "outputs": [],
   "source": []
  },
  {
   "cell_type": "code",
   "execution_count": null,
   "metadata": {},
   "outputs": [],
   "source": []
  },
  {
   "cell_type": "code",
   "execution_count": null,
   "metadata": {},
   "outputs": [],
   "source": []
  },
  {
   "cell_type": "code",
   "execution_count": null,
   "metadata": {},
   "outputs": [],
   "source": []
  },
  {
   "cell_type": "code",
   "execution_count": null,
   "metadata": {},
   "outputs": [],
   "source": []
  },
  {
   "cell_type": "code",
   "execution_count": null,
   "metadata": {},
   "outputs": [],
   "source": []
  },
  {
   "cell_type": "code",
   "execution_count": null,
   "metadata": {},
   "outputs": [],
   "source": []
  },
  {
   "cell_type": "code",
   "execution_count": null,
   "metadata": {},
   "outputs": [],
   "source": []
  },
  {
   "cell_type": "code",
   "execution_count": null,
   "metadata": {},
   "outputs": [],
   "source": []
  }
 ],
 "metadata": {
  "kernelspec": {
   "display_name": "PythonCpu",
   "language": "python",
   "name": "pythoncpu"
  },
  "language_info": {
   "codemirror_mode": {
    "name": "ipython",
    "version": 3
   },
   "file_extension": ".py",
   "mimetype": "text/x-python",
   "name": "python",
   "nbconvert_exporter": "python",
   "pygments_lexer": "ipython3",
   "version": "3.6.12"
  }
 },
 "nbformat": 4,
 "nbformat_minor": 4
}
